{
 "cells": [
  {
   "cell_type": "code",
   "execution_count": 68,
   "metadata": {},
   "outputs": [
    {
     "name": "stdout",
     "output_type": "stream",
     "text": [
      "caca\n",
      "caca\n",
      "caca\n",
      "{'matrice': [[{'etat': <Contenu.VIDE: 0>, 'animal': None}, {'etat': <Contenu.VIDE: 0>, 'animal': None}], [{'etat': <Contenu.VIDE: 0>, 'animal': None}, {'etat': <Contenu.VIDE: 0>, 'animal': None}]], 'nb_proies': 0, 'nb_predateurs': 0, 'nb_lignes': 2, 'nb_colonnes': 2}\n",
      "{'matrice': [[{'etat': <Contenu.VIDE: 0>, 'animal': None}, {'etat': <Contenu.VIDE: 0>, 'animal': None}], [{'etat': <Contenu.VIDE: 0>, 'animal': None}, {'etat': <Contenu.VIDE: 0>, 'animal': None}]], 'nb_proies': 0, 'nb_predateurs': 0, 'nb_lignes': 2, 'nb_colonnes': 2}\n",
      "{'matrice': [[{'etat': '6969', 'animal': None}, {'etat': '6969', 'animal': None}], [{'etat': '6969', 'animal': None}, {'etat': '6969', 'animal': None}]], 'nb_proies': 0, 'nb_predateurs': 0, 'nb_lignes': 2, 'nb_colonnes': 2}\n"
     ]
    }
   ],
   "source": [
    "\n",
    "from grille_animaux import *\n",
    "from animal import *\n",
    "\n",
    " \t\n",
    "\n",
    "animal1 = creer_animal(age=5, energie=50)\n",
    "animal2 = creer_animal(age=3, jrs_gestation=1, energie=30)\n",
    "animal3 = creer_animal(age=2, disponible=False)\n",
    "\n",
    "\n",
    "\n",
    "array = creer_grille(2, 2)\n",
    "print(array)\n",
    "\n",
    "\n",
    "print(array)\n",
    "\n",
    "array[\"matrice\"][0][0]['etat'] = '6969'\n",
    "\n",
    "\n",
    "print(array)\n",
    "\n",
    "\n",
    "\n",
    "\n",
    "\n",
    "\n",
    "\t"
   ]
  }
 ],
 "metadata": {
  "kernelspec": {
   "display_name": "Python 3",
   "language": "python",
   "name": "python3"
  },
  "language_info": {
   "codemirror_mode": {
    "name": "ipython",
    "version": 3
   },
   "file_extension": ".py",
   "mimetype": "text/x-python",
   "name": "python",
   "nbconvert_exporter": "python",
   "pygments_lexer": "ipython3",
   "version": "3.10.8"
  }
 },
 "nbformat": 4,
 "nbformat_minor": 2
}
